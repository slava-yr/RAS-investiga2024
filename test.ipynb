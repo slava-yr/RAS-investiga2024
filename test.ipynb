{
 "cells": [
  {
   "cell_type": "markdown",
   "metadata": {},
   "source": [
    "# Important Features"
   ]
  },
  {
   "cell_type": "code",
   "execution_count": 2,
   "metadata": {},
   "outputs": [],
   "source": [
    "import pandas as pd"
   ]
  },
  {
   "cell_type": "code",
   "execution_count": 3,
   "metadata": {},
   "outputs": [],
   "source": [
    "df = pd.read_csv(\"Heat Stroke.csv\")\n",
    "df = df[df['Exertional (1) vs classic (0)'] == 0] # Classic only"
   ]
  },
  {
   "cell_type": "code",
   "execution_count": 4,
   "metadata": {},
   "outputs": [],
   "source": [
    "variables = df.columns.drop(['Daily Ingested Water (L)', 'Exposure to sun', 'Sickle Cell Trait (SCT)', 'Rectal temperature (deg C)', 'Exertional (1) vs classic (0)', 'Barometric Pressure', 'Sweating', 'Skin color (flushed/normal=1, pale=0.5, cyatonic=0)', 'Strenuous exercise', 'Nationality', 'Sex', 'Hot/dry skin'])\n",
    "new_df = df[variables] # Descarte de variables "
   ]
  },
  {
   "cell_type": "code",
   "execution_count": 5,
   "metadata": {},
   "outputs": [
    {
     "name": "stderr",
     "output_type": "stream",
     "text": [
      "c:\\ProgramData\\anaconda3\\Lib\\site-packages\\numpy\\lib\\function_base.py:2897: RuntimeWarning: invalid value encountered in divide\n",
      "  c /= stddev[:, None]\n",
      "c:\\ProgramData\\anaconda3\\Lib\\site-packages\\numpy\\lib\\function_base.py:2898: RuntimeWarning: invalid value encountered in divide\n",
      "  c /= stddev[None, :]\n"
     ]
    },
    {
     "data": {
      "text/plain": [
       "Heat stroke                                            1.000000\n",
       "Rectal temperature (deg C)                             0.961184\n",
       "Patient temperature                                    0.741070\n",
       "Exposure to sun                                        0.736153\n",
       "Age                                                    0.573974\n",
       "Strenuous exercise                                     0.566358\n",
       "Diastolic BP                                           0.538106\n",
       "Heat Index (HI)                                        0.530044\n",
       "Environmental temperature (C)                          0.518831\n",
       "Skin color (flushed/normal=1, pale=0.5, cyatonic=0)    0.513671\n",
       "Relative Humidity                                      0.483495\n",
       "Hot/dry skin                                           0.427293\n",
       "Nationality                                            0.369865\n",
       "Sweating                                               0.332256\n",
       "Dehydration                                            0.103164\n",
       "Cardiovascular disease history                         0.092254\n",
       "Time of year (month)                                   0.066183\n",
       "BMI                                                    0.061020\n",
       "Sex                                                    0.058648\n",
       "Heart / Pulse rate (b/min)                             0.055896\n",
       "Time of day                                            0.049758\n",
       "Daily Ingested Water (L)                               0.037701\n",
       "Sickle Cell Trait (SCT)                                0.016713\n",
       "Systolic BP                                            0.010506\n",
       "Weight (kg)                                            0.008861\n",
       "Exertional (1) vs classic (0)                               NaN\n",
       "Barometric Pressure                                         NaN\n",
       "dtype: float64"
      ]
     },
     "execution_count": 5,
     "metadata": {},
     "output_type": "execute_result"
    }
   ],
   "source": [
    "abs(df.corrwith(df['Heat stroke'])).sort_values(ascending=False)"
   ]
  },
  {
   "cell_type": "code",
   "execution_count": 6,
   "metadata": {},
   "outputs": [
    {
     "name": "stdout",
     "output_type": "stream",
     "text": [
      "Index(['Heat stroke', 'Patient temperature', 'Age', 'Diastolic BP',\n",
      "       'Heat Index (HI)', 'Environmental temperature (C)', 'Relative Humidity',\n",
      "       'Dehydration', 'Cardiovascular disease history', 'Time of year (month)',\n",
      "       'BMI', 'Heart / Pulse rate (b/min)', 'Time of day', 'Systolic BP',\n",
      "       'Weight (kg)'],\n",
      "      dtype='object')\n"
     ]
    }
   ],
   "source": [
    "correlations = abs(new_df.corrwith(df['Heat stroke'])).sort_values(ascending=False)\n",
    "print(correlations.index)"
   ]
  },
  {
   "cell_type": "code",
   "execution_count": 7,
   "metadata": {},
   "outputs": [],
   "source": [
    "features = ['Patient temperature', 'Age', 'Heat Index (HI)', 'Environmental temperature (C)', 'Relative Humidity',\n",
    "            'Cardiovascular disease history', 'Time of year (month)',\n",
    "       'BMI', 'Time of day', 'Weight (kg)']\n",
    "X = new_df[features]"
   ]
  },
  {
   "cell_type": "markdown",
   "metadata": {},
   "source": [
    "# Sklearn"
   ]
  },
  {
   "cell_type": "code",
   "execution_count": 8,
   "metadata": {},
   "outputs": [],
   "source": [
    "import sklearn\n",
    "from sklearn.tree import DecisionTreeClassifier\n",
    "from sklearn.model_selection import train_test_split\n",
    "from matplotlib import pyplot\n",
    "\n",
    "#X = new_df[new_df.columns.drop(['Heat stroke'])]\n",
    "# print(X.head())\n",
    "y = new_df['Heat stroke']\n",
    "X_train, X_test, y_train, y_test = train_test_split(X, y, random_state=0)"
   ]
  },
  {
   "cell_type": "code",
   "execution_count": 9,
   "metadata": {},
   "outputs": [
    {
     "data": {
      "text/plain": [
       "array([0, 0, 0, 0, 1, 0, 0, 0, 0, 0, 0, 0, 0, 0, 0, 0, 0, 0, 1, 1, 0, 0,\n",
       "       0, 0, 0, 0, 0, 0, 0, 0, 0, 0, 0, 0, 0, 1, 0, 0, 0, 1, 0, 0, 0, 0,\n",
       "       0, 0, 1, 0, 1, 0, 0, 0, 0, 0, 0, 1, 0, 0, 0, 1, 1, 0, 0, 0, 0, 0,\n",
       "       0, 0, 0, 0, 1, 0, 0, 0, 1, 0, 1, 1, 0, 1, 0, 0, 0, 0, 0, 0, 0, 0,\n",
       "       1, 1, 0, 0, 0, 0, 0, 0, 0, 0, 0, 0, 0, 0, 1, 0, 1, 0, 0, 0, 0, 0,\n",
       "       1, 0, 1, 0, 0, 0, 0, 0, 0, 0, 0, 0, 0, 0, 0, 0, 0, 0, 0, 0, 0, 0,\n",
       "       1, 0, 0, 0, 0, 0, 0, 0, 0, 0, 0, 0, 0, 0], dtype=int64)"
      ]
     },
     "execution_count": 9,
     "metadata": {},
     "output_type": "execute_result"
    }
   ],
   "source": [
    "clf = DecisionTreeClassifier()\n",
    "clf.fit(X_train, y_train)\n",
    "predictions = clf.predict(X_test)\n",
    "predictions\n"
   ]
  },
  {
   "cell_type": "code",
   "execution_count": 10,
   "metadata": {},
   "outputs": [
    {
     "data": {
      "text/html": [
       "<div>\n",
       "<style scoped>\n",
       "    .dataframe tbody tr th:only-of-type {\n",
       "        vertical-align: middle;\n",
       "    }\n",
       "\n",
       "    .dataframe tbody tr th {\n",
       "        vertical-align: top;\n",
       "    }\n",
       "\n",
       "    .dataframe thead th {\n",
       "        text-align: right;\n",
       "    }\n",
       "</style>\n",
       "<table border=\"1\" class=\"dataframe\">\n",
       "  <thead>\n",
       "    <tr style=\"text-align: right;\">\n",
       "      <th></th>\n",
       "      <th>Variable</th>\n",
       "      <th>Importance</th>\n",
       "    </tr>\n",
       "  </thead>\n",
       "  <tbody>\n",
       "    <tr>\n",
       "      <th>0</th>\n",
       "      <td>Patient temperature</td>\n",
       "      <td>0.763581</td>\n",
       "    </tr>\n",
       "    <tr>\n",
       "      <th>1</th>\n",
       "      <td>Age</td>\n",
       "      <td>0.092561</td>\n",
       "    </tr>\n",
       "    <tr>\n",
       "      <th>2</th>\n",
       "      <td>Heat Index (HI)</td>\n",
       "      <td>0.001855</td>\n",
       "    </tr>\n",
       "    <tr>\n",
       "      <th>3</th>\n",
       "      <td>Environmental temperature (C)</td>\n",
       "      <td>0.087118</td>\n",
       "    </tr>\n",
       "    <tr>\n",
       "      <th>4</th>\n",
       "      <td>Relative Humidity</td>\n",
       "      <td>0.037725</td>\n",
       "    </tr>\n",
       "    <tr>\n",
       "      <th>5</th>\n",
       "      <td>Cardiovascular disease history</td>\n",
       "      <td>0.000000</td>\n",
       "    </tr>\n",
       "    <tr>\n",
       "      <th>6</th>\n",
       "      <td>Time of year (month)</td>\n",
       "      <td>0.000000</td>\n",
       "    </tr>\n",
       "    <tr>\n",
       "      <th>7</th>\n",
       "      <td>BMI</td>\n",
       "      <td>0.000000</td>\n",
       "    </tr>\n",
       "    <tr>\n",
       "      <th>8</th>\n",
       "      <td>Time of day</td>\n",
       "      <td>0.017161</td>\n",
       "    </tr>\n",
       "    <tr>\n",
       "      <th>9</th>\n",
       "      <td>Weight (kg)</td>\n",
       "      <td>0.000000</td>\n",
       "    </tr>\n",
       "  </tbody>\n",
       "</table>\n",
       "</div>"
      ],
      "text/plain": [
       "                         Variable  Importance\n",
       "0             Patient temperature    0.763581\n",
       "1                             Age    0.092561\n",
       "2                 Heat Index (HI)    0.001855\n",
       "3   Environmental temperature (C)    0.087118\n",
       "4               Relative Humidity    0.037725\n",
       "5  Cardiovascular disease history    0.000000\n",
       "6            Time of year (month)    0.000000\n",
       "7                             BMI    0.000000\n",
       "8                     Time of day    0.017161\n",
       "9                     Weight (kg)    0.000000"
      ]
     },
     "execution_count": 10,
     "metadata": {},
     "output_type": "execute_result"
    }
   ],
   "source": [
    "feature_names = X.columns\n",
    "df2 = pd.DataFrame({'Variable': feature_names, 'Importance': clf.feature_importances_})\n",
    "df2"
   ]
  },
  {
   "cell_type": "code",
   "execution_count": 11,
   "metadata": {},
   "outputs": [
    {
     "data": {
      "text/plain": [
       "0.9452054794520548"
      ]
     },
     "execution_count": 11,
     "metadata": {},
     "output_type": "execute_result"
    }
   ],
   "source": [
    "from sklearn.metrics import accuracy_score\n",
    "accuracy_score(y_test, predictions)"
   ]
  },
  {
   "cell_type": "code",
   "execution_count": 12,
   "metadata": {},
   "outputs": [
    {
     "data": {
      "text/plain": [
       "[Text(0.6, 0.9166666666666666, 'Patient temperature <= 38.298\\ngini = 0.241\\nsamples = 435\\nvalue = [374, 61]'),\n",
       " Text(0.4, 0.75, 'Age <= 61.463\\ngini = 0.042\\nsamples = 377\\nvalue = [369, 8]'),\n",
       " Text(0.3, 0.5833333333333334, 'Relative Humidity <= 0.417\\ngini = 0.016\\nsamples = 372\\nvalue = [369, 3]'),\n",
       " Text(0.2, 0.4166666666666667, 'Heat Index (HI) <= 107.914\\ngini = 0.005\\nsamples = 370\\nvalue = [369, 1]'),\n",
       " Text(0.1, 0.25, 'gini = 0.0\\nsamples = 360\\nvalue = [360, 0]'),\n",
       " Text(0.3, 0.25, 'Time of day <= 9.718\\ngini = 0.18\\nsamples = 10\\nvalue = [9, 1]'),\n",
       " Text(0.2, 0.08333333333333333, 'gini = 0.0\\nsamples = 1\\nvalue = [0, 1]'),\n",
       " Text(0.4, 0.08333333333333333, 'gini = 0.0\\nsamples = 9\\nvalue = [9, 0]'),\n",
       " Text(0.4, 0.4166666666666667, 'gini = 0.0\\nsamples = 2\\nvalue = [0, 2]'),\n",
       " Text(0.5, 0.5833333333333334, 'gini = 0.0\\nsamples = 5\\nvalue = [0, 5]'),\n",
       " Text(0.8, 0.75, 'Environmental temperature (C) <= 31.546\\ngini = 0.158\\nsamples = 58\\nvalue = [5, 53]'),\n",
       " Text(0.7, 0.5833333333333334, 'gini = 0.0\\nsamples = 5\\nvalue = [5, 0]'),\n",
       " Text(0.9, 0.5833333333333334, 'gini = 0.0\\nsamples = 53\\nvalue = [0, 53]')]"
      ]
     },
     "execution_count": 12,
     "metadata": {},
     "output_type": "execute_result"
    },
    {
     "data": {
      "image/png": "[encoded data removed]",
      "text/plain": [
       "<Figure size 640x480 with 1 Axes>"
      ]
     },
     "metadata": {},
     "output_type": "display_data"
    }
   ],
   "source": [
    "sklearn.tree.plot_tree(clf, feature_names=feature_names)"
   ]
  },
  {
   "cell_type": "code",
   "execution_count": 13,
   "metadata": {},
   "outputs": [
    {
     "name": "stdout",
     "output_type": "stream",
     "text": [
      "Index(['Daily Ingested Water (L)', 'Time of year (month)',\n",
      "       'Cardiovascular disease history', 'Dehydration', 'Heat Index (HI)',\n",
      "       'Diastolic BP', 'Environmental temperature (C)',\n",
      "       'Sickle Cell Trait (SCT)', 'Systolic BP', 'Weight (kg)',\n",
      "       'Patient temperature', 'Rectal temperature (deg C)',\n",
      "       'Relative Humidity', 'Exposure to sun', 'BMI',\n",
      "       'Exertional (1) vs classic (0)', 'Barometric Pressure',\n",
      "       'Heart / Pulse rate (b/min)', 'Age', 'Sweating',\n",
      "       'Skin color (flushed/normal=1, pale=0.5, cyatonic=0)',\n",
      "       'Strenuous exercise', 'Nationality', 'Sex', 'Hot/dry skin',\n",
      "       'Time of day', 'Heat stroke'],\n",
      "      dtype='object')\n"
     ]
    },
    {
     "data": {
      "text/html": [
       "<div>\n",
       "<style scoped>\n",
       "    .dataframe tbody tr th:only-of-type {\n",
       "        vertical-align: middle;\n",
       "    }\n",
       "\n",
       "    .dataframe tbody tr th {\n",
       "        vertical-align: top;\n",
       "    }\n",
       "\n",
       "    .dataframe thead th {\n",
       "        text-align: right;\n",
       "    }\n",
       "</style>\n",
       "<table border=\"1\" class=\"dataframe\">\n",
       "  <thead>\n",
       "    <tr style=\"text-align: right;\">\n",
       "      <th></th>\n",
       "      <th>Patient temperature</th>\n",
       "      <th>Rectal temperature (deg C)</th>\n",
       "    </tr>\n",
       "  </thead>\n",
       "  <tbody>\n",
       "    <tr>\n",
       "      <th>10</th>\n",
       "      <td>39.608040</td>\n",
       "      <td>42.222222</td>\n",
       "    </tr>\n",
       "    <tr>\n",
       "      <th>11</th>\n",
       "      <td>39.114216</td>\n",
       "      <td>40.444444</td>\n",
       "    </tr>\n",
       "    <tr>\n",
       "      <th>12</th>\n",
       "      <td>43.186638</td>\n",
       "      <td>42.222222</td>\n",
       "    </tr>\n",
       "    <tr>\n",
       "      <th>13</th>\n",
       "      <td>39.444444</td>\n",
       "      <td>41.532918</td>\n",
       "    </tr>\n",
       "    <tr>\n",
       "      <th>14</th>\n",
       "      <td>40.000000</td>\n",
       "      <td>38.327092</td>\n",
       "    </tr>\n",
       "    <tr>\n",
       "      <th>...</th>\n",
       "      <td>...</td>\n",
       "      <td>...</td>\n",
       "    </tr>\n",
       "    <tr>\n",
       "      <th>604</th>\n",
       "      <td>36.825856</td>\n",
       "      <td>36.991501</td>\n",
       "    </tr>\n",
       "    <tr>\n",
       "      <th>605</th>\n",
       "      <td>37.257788</td>\n",
       "      <td>37.043312</td>\n",
       "    </tr>\n",
       "    <tr>\n",
       "      <th>606</th>\n",
       "      <td>36.354708</td>\n",
       "      <td>36.556138</td>\n",
       "    </tr>\n",
       "    <tr>\n",
       "      <th>607</th>\n",
       "      <td>34.332384</td>\n",
       "      <td>36.248820</td>\n",
       "    </tr>\n",
       "    <tr>\n",
       "      <th>608</th>\n",
       "      <td>34.974152</td>\n",
       "      <td>36.174493</td>\n",
       "    </tr>\n",
       "  </tbody>\n",
       "</table>\n",
       "<p>581 rows × 2 columns</p>\n",
       "</div>"
      ],
      "text/plain": [
       "     Patient temperature  Rectal temperature (deg C)\n",
       "10             39.608040                   42.222222\n",
       "11             39.114216                   40.444444\n",
       "12             43.186638                   42.222222\n",
       "13             39.444444                   41.532918\n",
       "14             40.000000                   38.327092\n",
       "..                   ...                         ...\n",
       "604            36.825856                   36.991501\n",
       "605            37.257788                   37.043312\n",
       "606            36.354708                   36.556138\n",
       "607            34.332384                   36.248820\n",
       "608            34.974152                   36.174493\n",
       "\n",
       "[581 rows x 2 columns]"
      ]
     },
     "execution_count": 13,
     "metadata": {},
     "output_type": "execute_result"
    }
   ],
   "source": [
    "print(df.columns)\n",
    "df[[\"Patient temperature\", \"Rectal temperature (deg C)\"]]"
   ]
  },
  {
   "cell_type": "code",
   "execution_count": 15,
   "metadata": {},
   "outputs": [
    {
     "data": {
      "text/plain": [
       "array([0, 1], dtype=int64)"
      ]
     },
     "execution_count": 15,
     "metadata": {},
     "output_type": "execute_result"
    }
   ],
   "source": [
    "df[\"Cardiovascular disease history\"].unique()"
   ]
  },
  {
   "cell_type": "code",
   "execution_count": null,
   "metadata": {},
   "outputs": [],
   "source": []
  }
 ],
 "metadata": {
  "kernelspec": {
   "display_name": "Python 3",
   "language": "python",
   "name": "python3"
  },
  "language_info": {
   "codemirror_mode": {
    "name": "ipython",
    "version": 3
   },
   "file_extension": ".py",
   "mimetype": "text/x-python",
   "name": "python",
   "nbconvert_exporter": "python",
   "pygments_lexer": "ipython3",
   "version": "3.11.7"
  }
 },
 "nbformat": 4,
 "nbformat_minor": 2
}
