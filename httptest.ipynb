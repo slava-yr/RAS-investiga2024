{
 "cells": [
  {
   "cell_type": "markdown",
   "metadata": {},
   "source": [
    "# Testing HTTP Get for the Ubidots API"
   ]
  },
  {
   "cell_type": "code",
   "execution_count": 7,
   "metadata": {},
   "outputs": [
    {
     "name": "stdout",
     "output_type": "stream",
     "text": [
      "https://industrial.api.ubidots.com/api/v1.6/variables/65f3665f287da5090f3f4726/statistics/max/1710604821499/1710691221499\n",
      "{'max': 2199.0}\n"
     ]
    }
   ],
   "source": [
    "import requests\n",
    "import datetime\n",
    "\n",
    "# Get current date and time in UTC\n",
    "current_datetime = datetime.datetime.now(datetime.timezone.utc)\n",
    "\n",
    "# Convert current date and time to POSIX format in milliseconds\n",
    "end_int = int(current_datetime.timestamp() * 1000)\n",
    "\n",
    "two_hours_delta = datetime.timedelta(hours=24)\n",
    "two_hours_ago = current_datetime - two_hours_delta\n",
    "start_int = int(two_hours_ago.timestamp() * 1000)\n",
    "\n",
    "variable_id = \"65f3665f287da5090f3f4726\"\n",
    "aggregation = \"max\"  # You can choose any of the available aggregations\n",
    "start = str(start_int)\n",
    "end = str(end_int)\n",
    "token = \"BBUS-bVtde0QdG4qcGbS1CP8rfa3MYacQnM\"\n",
    "\n",
    "url = f\"https://industrial.api.ubidots.com/api/v1.6/variables/{variable_id}/statistics/{aggregation}/{start}/{end}\"\n",
    "\n",
    "print(url)\n",
    "headers = {\n",
    "    \"X-Auth-Token\": token,\n",
    "    \"Content-Type\": \"application/json\"\n",
    "}\n",
    "\n",
    "response = requests.get(url, headers=headers)\n",
    "\n",
    "if response.status_code == 200:\n",
    "    aggregated_data = response.json()\n",
    "    print(aggregated_data)\n",
    "else:\n",
    "    print(\"Failed to retrieve aggregated data. Status code:\", response.status_code)"
   ]
  },
  {
   "cell_type": "code",
   "execution_count": null,
   "metadata": {},
   "outputs": [],
   "source": []
  }
 ],
 "metadata": {
  "kernelspec": {
   "display_name": "base",
   "language": "python",
   "name": "python3"
  },
  "language_info": {
   "codemirror_mode": {
    "name": "ipython",
    "version": 3
   },
   "file_extension": ".py",
   "mimetype": "text/x-python",
   "name": "python",
   "nbconvert_exporter": "python",
   "pygments_lexer": "ipython3",
   "version": "3.11.7"
  }
 },
 "nbformat": 4,
 "nbformat_minor": 2
}
